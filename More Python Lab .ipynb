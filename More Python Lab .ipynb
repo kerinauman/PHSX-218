{
 "cells": [
  {
   "cell_type": "code",
   "execution_count": 48,
   "metadata": {},
   "outputs": [],
   "source": [
    "import numpy as np"
   ]
  },
  {
   "cell_type": "code",
   "execution_count": 49,
   "metadata": {},
   "outputs": [],
   "source": [
    "def thermexp(deltaL,L,fintemp,intemp):\n",
    "    alpha = deltaL/(L*(fintemp-intemp))\n",
    "    return alpha \n"
   ]
  },
  {
   "cell_type": "code",
   "execution_count": 50,
   "metadata": {},
   "outputs": [
    {
     "name": "stdout",
     "output_type": "stream",
     "text": [
      "Alpha =  1.7228309558266145e-05 /degree C\n"
     ]
    }
   ],
   "source": [
    "deltaL = 0.00125\n",
    "L = 1.05\n",
    "intemp = 23.4\n",
    "fintemp = 92.5\n",
    "\n",
    "alpha_value= thermexp(deltaL,L,fintemp,intemp)\n",
    "print(\"Alpha = \", alpha_value, \"/degree C\")"
   ]
  },
  {
   "cell_type": "code",
   "execution_count": 51,
   "metadata": {},
   "outputs": [],
   "source": [
    "def rule3(dA,dB):\n",
    "    dQ_add=np.sqrt(dA**2+dB**2)\n",
    "    return dQ_add"
   ]
  },
  {
   "cell_type": "code",
   "execution_count": 52,
   "metadata": {},
   "outputs": [
    {
     "name": "stdout",
     "output_type": "stream",
     "text": [
      "Error in deltaT equals  0.31622776601683794 degree C\n"
     ]
    }
   ],
   "source": [
    "dA = 0.3\n",
    "dB = 0.1\n",
    "\n",
    "dQ_add_value = rule3(dA,dB)\n",
    "print(\"Error in deltaT equals \", dQ_add_value, \"degree C\")"
   ]
  },
  {
   "cell_type": "code",
   "execution_count": 53,
   "metadata": {},
   "outputs": [],
   "source": [
    "def rule4(m,dC,C,n,dD,D,o,dE,E,Q_mult):\n",
    "    dQ_mult= (np.sqrt((m*(dC/C))**2 + (n*(dD/D))**2 + (o*(dE/E))**2))*Q_mult\n",
    "    return dQ_mult"
   ]
  },
  {
   "cell_type": "code",
   "execution_count": 54,
   "metadata": {},
   "outputs": [
    {
     "name": "stdout",
     "output_type": "stream",
     "text": [
      "Error in alpha equal  1.596296282604527e-07  /degree C\n"
     ]
    }
   ],
   "source": [
    "m = 1\n",
    "dC = 0.001\n",
    "C = 1.05\n",
    "n = 1\n",
    "dD = dQ_add_value\n",
    "D = fintemp-intemp\n",
    "o = 1\n",
    "dE= 0.00001\n",
    "E = 0.00125\n",
    "Q_mult = alpha_value\n",
    "dQ_mult_value = rule4(m,dC,C,n,dD,D,o,dE,E,Q_mult)\n",
    "print(\"Error in alpha equal \", dQ_mult_value, \" /degree C\")"
   ]
  },
  {
   "cell_type": "code",
   "execution_count": 55,
   "metadata": {},
   "outputs": [
    {
     "name": "stdout",
     "output_type": "stream",
     "text": [
      "Alpha +/- dAlpha equals  1.7228309558266145e-05 +/-  1.596296282604527e-07 /degree C\n"
     ]
    }
   ],
   "source": [
    "print(\"Alpha +/- dAlpha equals \", alpha_value, \"+/- \", dQ_mult_value, \"/degree C\")"
   ]
  },
  {
   "cell_type": "code",
   "execution_count": null,
   "metadata": {},
   "outputs": [],
   "source": []
  }
 ],
 "metadata": {
  "kernelspec": {
   "display_name": "Python 3",
   "language": "python",
   "name": "python3"
  },
  "language_info": {
   "codemirror_mode": {
    "name": "ipython",
    "version": 3
   },
   "file_extension": ".py",
   "mimetype": "text/x-python",
   "name": "python",
   "nbconvert_exporter": "python",
   "pygments_lexer": "ipython3",
   "version": "3.7.3"
  }
 },
 "nbformat": 4,
 "nbformat_minor": 2
}
